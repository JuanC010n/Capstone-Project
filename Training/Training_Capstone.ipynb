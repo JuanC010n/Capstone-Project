{
  "nbformat": 4,
  "nbformat_minor": 0,
  "metadata": {
    "colab": {
      "provenance": []
    },
    "kernelspec": {
      "name": "python3",
      "display_name": "Python 3"
    },
    "language_info": {
      "name": "python"
    }
  },
  "cells": [
    {
      "cell_type": "code",
      "execution_count": null,
      "metadata": {
        "id": "2H73OIXIFObK"
      },
      "outputs": [],
      "source": [
        "# Method to get database directly from google drive:\n",
        "import pandas as pd\n",
        "URL = '1LbXGcPhpd84vIGDzyl1sCHNFNme2rlWe'\n",
        "path = 'https://drive.google.com/uc?export=download&id=' + URL\n",
        "\n",
        "spotify_song_data = pd.read_csv(path)\n",
        "spotify_song_data.head()"
      ]
    },
    {
      "cell_type": "code",
      "source": [
        "def cosine_score(new_all,rsong):\n",
        "  from scipy.spatial import distance\n",
        "  score_count = [0,0,0,0,0,0,0,0,0,0]\n",
        "  scores = []\n",
        "  result = 0\n",
        "  for i4 in range(0,new_all.shape[0]):\n",
        "    result = 1 - distance.cosine(new_all.iloc[i4], rsong)\n",
        "    scores.append(result)\n",
        "    if (result < 0.999):\n",
        "      score_count[0] += 1 \n",
        "    elif (result < 0.9996):\n",
        "      score_count[1] += 1\n",
        "    elif (result < 0.99996):\n",
        "      score_count[2] += 1\n",
        "    elif (result < 0.99999):\n",
        "      score_count[3] += 1\n",
        "    elif (result < 0.999996):\n",
        "      score_count[4] += 1\n",
        "    elif (result < 0.999999):\n",
        "      score_count[5] += 1\n",
        "    elif (result < 0.9999995):\n",
        "      score_count[6] += 1\n",
        "    elif (result < 0.9999999):\n",
        "      score_count[7] += 1\n",
        "    elif (result < 0.99999996):\n",
        "      score_count[8] += 1\n",
        "    elif (result <= 1):\n",
        "      score_count[9] += 1\n",
        "  print(\"Original Scores Distribution: \", score_count)\n",
        "  return scores"
      ],
      "metadata": {
        "id": "ei6NIUM5Ab9X"
      },
      "execution_count": 1,
      "outputs": []
    },
    {
      "cell_type": "code",
      "source": [
        "def generateBalancedSet(new_all,randm_num,training_set):\n",
        "  import time\n",
        "  start_time = time.process_time()\n",
        "  from scipy.spatial import distance\n",
        "  import pandas as pandas\n",
        "  \n",
        "\n",
        "  # Get random song values\n",
        "  #new_all_small = new_all_.loc[new_all['year']<30]\n",
        "  rsong = new_all.iloc[randm_num]\n",
        "  print(\"Random number:\\n\", rsong,\"\\n\")\n",
        "  score_count = 0\n",
        "  scores = []\n",
        "\n",
        "  # Get distance values\n",
        "  scores = cosine_score(new_all,rsong)\n",
        "\n",
        "  # Generate Groups\n",
        "  scores2 = scores\n",
        "  scores_indiv = [0,0,0,0,0,0,0,0,0,0]\n",
        "  for i in range(0,len(scores)):\n",
        "    if (scores[i] > 0 and scores[i] <= 1):\n",
        "      if (scores[i] < 0.999):\n",
        "        scores2[i] = 0\n",
        "        scores_indiv[0] +=1\n",
        "      elif (scores[i] < 0.9996):\n",
        "        scores2[i] = 1\n",
        "        scores_indiv[1] +=1\n",
        "      elif (scores[i] < 0.99996):\n",
        "        scores2[i] = 2\n",
        "        scores_indiv[2] +=1\n",
        "      elif (scores[i] < 0.99999):\n",
        "        scores2[i] = 3\n",
        "        scores_indiv[3] +=1\n",
        "      elif (scores[i] < 0.999996):\n",
        "        scores2[i] = 4\n",
        "        scores_indiv[4] +=1\n",
        "      elif (scores[i] < 0.999999):\n",
        "        scores2[i] = 5\n",
        "        scores_indiv[5] +=1\n",
        "      elif (scores[i] < 0.9999995):\n",
        "        scores2[i] = 6\n",
        "        scores_indiv[6] +=1\n",
        "      elif (scores[i] < 0.9999999):\n",
        "        scores2[i] = 7\n",
        "        scores_indiv[7] +=1\n",
        "      elif (scores[i] < 0.99999996):\n",
        "        scores2[i] = 8\n",
        "        scores_indiv[8] +=1\n",
        "      elif (scores[i] <=1):\n",
        "        scores2[i] = 9\n",
        "        scores_indiv[9] +=1\n",
        "        \n",
        "  #### FROM 0-9, 9 BEING THE BEST\n",
        "  print(\"Scores after Classification: \", scores_indiv)\n",
        "  print(\"\\nDistribution of groups (0-9):\")\n",
        "  import matplotlib.pyplot as plt\n",
        "  plt.hist(scores2, bins = [-1,0,1,2,3,4,5,6,7,8,9,10])\n",
        "  plt.show()\n",
        "  \n",
        "  # Create 4 columns with the same features in each row and change them to the desires names\n",
        "  usr_features = new_all[['Year','tempo','energy','instrumentalness','popularity']]\n",
        "  usr_features_new = usr_features.rename(columns = {'Year': 'Usr_Energy', 'tempo' : 'Usr_Instrumentalness'\n",
        "  , 'energy' : 'Usr_Popularity'\n",
        "  , 'instrumentalness': 'Usr_Tempo', 'popularity': 'Usr_Year'})\n",
        "\n",
        "  # Change the values of the columns to the users average decision\n",
        "  usr_features_new['Usr_Energy'] = new_all.iloc[randm_num][0]\n",
        "  usr_features_new['Usr_Instrumentalness'] = new_all.iloc[randm_num][1]\n",
        "  usr_features_new['Usr_Popularity'] = new_all.iloc[randm_num][2]\n",
        "  usr_features_new['Usr_Tempo'] = new_all.iloc[randm_num][3]\n",
        "  usr_features_new['Usr_Year'] = new_all.iloc[randm_num][4]\n",
        "\n",
        "  # Join to the main dataframe\n",
        "  training_df = new_all.assign(Usr_Energy=usr_features_new['Usr_Energy'],Usr_Instrumentalness=usr_features_new['Usr_Instrumentalness']\n",
        "                              ,Usr_Popularity=usr_features_new['Usr_Popularity'],Usr_Tempo=usr_features_new['Usr_Tempo']\n",
        "                              ,Usr_Year=usr_features_new['Usr_Year'])\n",
        "  training_df = training_df.assign(Score = scores2)\n",
        "  print(\"\\ntraining_set before the append: \", training_set.shape[0] )\n",
        "  \n",
        "  # Append to balanced training set\n",
        "  count_03 = 0\n",
        "  countgrp0 = 1\n",
        "  countgrp1 = 1\n",
        "  countgrp9 = 200\n",
        "  countgrp91 = 0\n",
        "  countgrp8 = 6\n",
        "  countgrp7 = 1\n",
        "  countgrp6 = 1\n",
        "  countgrp5 = 1\n",
        "  countgrp4 = 1\n",
        "  countgrp3 = 1\n",
        "  countgrp2 = 1\n",
        "  for i3 in range(0,len(scores)):\n",
        "    if scores2[i3] == 0:\n",
        "      if countgrp0 != 0:\n",
        "        countgrp0 = countgrp0 - 1\n",
        "        training_set = training_set.append(training_df.iloc[i3])\n",
        "        count_03 +=1\n",
        "    if (scores2[i3] > 0):\n",
        "      if scores2[i3] == 1:\n",
        "        if countgrp1 != 0:\n",
        "          countgrp1 = countgrp1 - 1\n",
        "          training_set = training_set.append(training_df.iloc[i3])\n",
        "          count_03 +=1\n",
        "      elif scores2[i3] == 9:\n",
        "        if scores[i3] == 1:\n",
        "          if countgrp91 != 0:\n",
        "            countgrp9 = countgrp9 - 1\n",
        "            training_set = training_set.append(training_df.iloc[i3])\n",
        "            count_03 +=1\n",
        "        elif countgrp9 != 0:\n",
        "          countgrp9 = countgrp9 - 1\n",
        "          training_set = training_set.append(training_df.iloc[i3])\n",
        "          count_03 +=1\n",
        "      elif scores2[i3] == 8:\n",
        "        if countgrp8 != 0:\n",
        "          countgrp8 = countgrp8 - 1\n",
        "          training_set = training_set.append(training_df.iloc[i3])\n",
        "          count_03 +=1\n",
        "      elif scores2[i3] == 7:\n",
        "        if countgrp7 != 0:\n",
        "          countgrp7 = countgrp7 - 1\n",
        "          training_set = training_set.append(training_df.iloc[i3])\n",
        "          count_03 +=1\n",
        "      elif scores2[i3] == 6:\n",
        "        if countgrp6 != 0:\n",
        "          countgrp6 = countgrp6 - 1\n",
        "          training_set = training_set.append(training_df.iloc[i3])\n",
        "          count_03 +=1\n",
        "      elif scores2[i3] == 5:\n",
        "        if countgrp5 != 0:\n",
        "          countgrp5 = countgrp5 - 1\n",
        "          training_set = training_set.append(training_df.iloc[i3])\n",
        "          count_03 +=1\n",
        "      elif scores2[i3] == 4:\n",
        "        if countgrp4 != 0:\n",
        "          countgrp4 = countgrp4 - 1\n",
        "          training_set = training_set.append(training_df.iloc[i3])\n",
        "          count_03 +=1\n",
        "      elif scores2[i3] == 3:\n",
        "        if countgrp3 != 0:\n",
        "          countgrp3 = countgrp3 - 1\n",
        "          training_set = training_set.append(training_df.iloc[i3])\n",
        "          count_03 +=1\n",
        "      elif scores2[i3] == 2:\n",
        "        if countgrp2 != 0:\n",
        "          countgrp2 = countgrp2 - 1\n",
        "          training_set = training_set.append(training_df.iloc[i3])\n",
        "          count_03 +=1\n",
        "\n",
        "  print(\"training_set after append: \", training_set.shape[0] )\n",
        "  print(\"count times appended: \",count_03 )\n",
        "  print(\"Time taken: \", time.process_time() - start_time)\n",
        "  return training_set\n",
        "\n",
        "import random\n",
        "import time\n",
        "import pandas as pd\n",
        "start_time_main = time.process_time()\n",
        "#training_set = training_df.copy()\n",
        "training_set = pd.read_csv(\"balanced_modelv2\")\n",
        "#training_set = training_set.iloc[0:0]\n",
        "new_all = pd.read_csv(\"new_all.csv\")\n",
        "\n",
        "i = 0\n",
        "epochs_m = 20\n",
        "for i in range (0,epochs_m):\n",
        "  print(\"\\n\\n ------ New Run: \",i,\" ------ \\n\")\n",
        "  randm_num = random.randint(0, new_all.shape[0])\n",
        "  print(\"Random Number: \",randm_num)\n",
        "  training_set = generateBalancedSet(new_all,randm_num,training_set)\n",
        "\n",
        "# Plot the overall distribution of training_set\n",
        "import matplotlib.pyplot as plt\n",
        "print(\"\\n ----- Overall Distribution -----\")\n",
        "training_set['Score'].hist(bins = [-1,0,1,2,3,4,5,6,7,8,9,10])\n",
        "plt.show()\n",
        "training_set.to_csv(\"balanced_modelv2\",index=False)\n",
        "print(\"Total time taken: \", time.process_time() - start_time_main)\n",
        "print(\"Average time taken: \", ((time.process_time() - start_time_main)/epochs_m))"
      ],
      "metadata": {
        "id": "IbKASN3VFXia",
        "colab": {
          "base_uri": "https://localhost:8080/",
          "height": 1000
        },
        "outputId": "f6b3aee0-6de3-4fb4-e827-4d483551d222"
      },
      "execution_count": null,
      "outputs": [
        {
          "output_type": "stream",
          "name": "stdout",
          "text": [
            "\n",
            "\n",
            " ------ New Run:  0  ------ \n",
            "\n",
            "Random Number:  95290\n",
            "Random number:\n",
            " energy               0.341000\n",
            "instrumentalness     0.003960\n",
            "popularity           0.000000\n",
            "tempo                0.307905\n",
            "Year                22.000000\n",
            "Name: 95290, dtype: float64 \n",
            "\n",
            "Original Scores Distribution:  [8564, 9897, 130339, 23248, 1728, 499, 70, 38, 3, 3]\n",
            "Scores after Classification:  [8564, 9897, 130339, 23248, 1728, 499, 70, 38, 3, 3]\n",
            "\n",
            "Distribution of groups (0-9):\n"
          ]
        },
        {
          "output_type": "display_data",
          "data": {
            "text/plain": [
              "<Figure size 432x288 with 1 Axes>"
            ],
            "image/png": "[encoded data removed]"
          },
          "metadata": {
            "needs_background": "light"
          }
        },
        {
          "output_type": "stream",
          "name": "stdout",
          "text": [
            "\n",
            "training_set before the append:  151876\n",
            "training_set after append:  151890\n",
            "count times appended:  14\n",
            "Time taken:  28.479135118999693\n",
            "\n",
            "\n",
            " ------ New Run:  1  ------ \n",
            "\n",
            "Random Number:  106721\n",
            "Random number:\n",
            " energy               0.148000\n",
            "instrumentalness     0.952000\n",
            "popularity           0.480000\n",
            "tempo                0.541015\n",
            "Year                82.000000\n",
            "Name: 106721, dtype: float64 \n",
            "\n",
            "Original Scores Distribution:  [9549, 8163, 143913, 9609, 1965, 1066, 87, 34, 0, 3]\n",
            "Scores after Classification:  [9549, 8163, 143913, 9609, 1965, 1066, 87, 34, 0, 3]\n",
            "\n",
            "Distribution of groups (0-9):\n"
          ]
        },
        {
          "output_type": "display_data",
          "data": {
            "text/plain": [
              "<Figure size 432x288 with 1 Axes>"
            ],
            "image/png": "[encoded data removed]"
          },
          "metadata": {
            "needs_background": "light"
          }
        },
        {
          "output_type": "stream",
          "name": "stdout",
          "text": [
            "\n",
            "training_set before the append:  151890\n",
            "training_set after append:  151901\n",
            "count times appended:  11\n",
            "Time taken:  28.238004380998973\n",
            "\n",
            "\n",
            " ------ New Run:  2  ------ \n",
            "\n",
            "Random Number:  172851\n",
            "Random number:\n",
            " energy               0.763000\n",
            "instrumentalness     0.000000\n",
            "popularity           0.510000\n",
            "tempo                0.656897\n",
            "Year                94.000000\n",
            "Name: 172851, dtype: float64 \n",
            "\n",
            "Original Scores Distribution:  [10043, 10410, 48074, 54924, 28945, 18433, 2291, 1152, 81, 36]\n",
            "Scores after Classification:  [10043, 10410, 48074, 54924, 28945, 18433, 2291, 1152, 81, 36]\n",
            "\n",
            "Distribution of groups (0-9):\n"
          ]
        },
        {
          "output_type": "display_data",
          "data": {
            "text/plain": [
              "<Figure size 432x288 with 1 Axes>"
            ],
            "image/png": "[encoded data removed]"
          },
          "metadata": {
            "needs_background": "light"
          }
        },
        {
          "output_type": "stream",
          "name": "stdout",
          "text": [
            "\n",
            "training_set before the append:  151901\n",
            "training_set after append:  151951\n",
            "count times appended:  50\n",
            "Time taken:  28.608574395000687\n",
            "\n",
            "\n",
            " ------ New Run:  3  ------ \n",
            "\n",
            "Random Number:  99127\n",
            "Random number:\n",
            " energy               0.286000\n",
            "instrumentalness     0.000000\n",
            "popularity           0.200000\n",
            "tempo                0.515308\n",
            "Year                44.000000\n",
            "Name: 99127, dtype: float64 \n",
            "\n",
            "Original Scores Distribution:  [9416, 9462, 53394, 85025, 12422, 4046, 401, 204, 15, 4]\n",
            "Scores after Classification:  [9416, 9462, 53394, 85025, 12422, 4046, 401, 204, 15, 4]\n",
            "\n",
            "Distribution of groups (0-9):\n"
          ]
        },
        {
          "output_type": "display_data",
          "data": {
            "text/plain": [
              "<Figure size 432x288 with 1 Axes>"
            ],
            "image/png": "[encoded data removed]"
          },
          "metadata": {
            "needs_background": "light"
          }
        },
        {
          "output_type": "stream",
          "name": "stdout",
          "text": [
            "\n",
            "training_set before the append:  151951\n",
            "training_set after append:  151969\n",
            "count times appended:  18\n",
            "Time taken:  28.308580525999787\n",
            "\n",
            "\n",
            " ------ New Run:  4  ------ \n",
            "\n",
            "Random Number:  102102\n",
            "Random number:\n",
            " energy               0.698000\n",
            "instrumentalness     0.000011\n",
            "popularity           0.310000\n",
            "tempo                0.477251\n",
            "Year                58.000000\n",
            "Name: 102102, dtype: float64 \n",
            "\n",
            "Original Scores Distribution:  [9570, 10187, 57535, 62030, 21320, 11421, 1489, 760, 57, 20]\n",
            "Scores after Classification:  [9570, 10187, 57535, 62030, 21320, 11421, 1489, 760, 57, 20]\n",
            "\n",
            "Distribution of groups (0-9):\n"
          ]
        },
        {
          "output_type": "display_data",
          "data": {
            "text/plain": [
              "<Figure size 432x288 with 1 Axes>"
            ],
            "image/png": "[encoded data removed]"
          },
          "metadata": {
            "needs_background": "light"
          }
        },
        {
          "output_type": "stream",
          "name": "stdout",
          "text": [
            "\n",
            "training_set before the append:  151969\n",
            "training_set after append:  152003\n",
            "count times appended:  34\n",
            "Time taken:  28.377781503000733\n",
            "\n",
            "\n",
            " ------ New Run:  5  ------ \n",
            "\n",
            "Random Number:  132137\n",
            "Random number:\n",
            " energy               0.308000\n",
            "instrumentalness     0.874000\n",
            "popularity           0.340000\n",
            "tempo                0.805172\n",
            "Year                46.000000\n",
            "Name: 132137, dtype: float64 \n",
            "\n",
            "Original Scores Distribution:  [7447, 5319, 158797, 2729, 85, 10, 1, 0, 0, 1]\n",
            "Scores after Classification:  [7447, 5319, 158797, 2729, 85, 10, 1, 0, 0, 1]\n",
            "\n",
            "Distribution of groups (0-9):\n"
          ]
        },
        {
          "output_type": "display_data",
          "data": {
            "text/plain": [
              "<Figure size 432x288 with 1 Axes>"
            ],
            "image/png": "[encoded data removed]"
          },
          "metadata": {
            "needs_background": "light"
          }
        },
        {
          "output_type": "stream",
          "name": "stdout",
          "text": [
            "\n",
            "training_set before the append:  152003\n",
            "training_set after append:  152011\n",
            "count times appended:  8\n",
            "Time taken:  28.290811113000018\n",
            "\n",
            "\n",
            " ------ New Run:  6  ------ \n",
            "\n",
            "Random Number:  136312\n",
            "Random number:\n",
            " energy               0.888000\n",
            "instrumentalness     0.000086\n",
            "popularity           0.310000\n",
            "tempo                0.592344\n",
            "Year                66.000000\n",
            "Name: 136312, dtype: float64 \n",
            "\n",
            "Original Scores Distribution:  [9382, 10164, 69024, 61643, 15192, 7475, 966, 500, 30, 13]\n",
            "Scores after Classification:  [9382, 10164, 69024, 61643, 15192, 7475, 966, 500, 30, 13]\n",
            "\n",
            "Distribution of groups (0-9):\n"
          ]
        },
        {
          "output_type": "display_data",
          "data": {
            "text/plain": [
              "<Figure size 432x288 with 1 Axes>"
            ],
            "image/png": "[encoded data removed]"
          },
          "metadata": {
            "needs_background": "light"
          }
        },
        {
          "output_type": "stream",
          "name": "stdout",
          "text": [
            "\n",
            "training_set before the append:  152011\n",
            "training_set after append:  152038\n",
            "count times appended:  27\n",
            "Time taken:  28.287614939999912\n",
            "\n",
            "\n",
            " ------ New Run:  7  ------ \n",
            "\n",
            "Random Number:  172904\n",
            "Random number:\n",
            " energy               0.982000\n",
            "instrumentalness     0.952000\n",
            "popularity           0.000000\n",
            "tempo                0.517427\n",
            "Year                93.000000\n",
            "Name: 172904, dtype: float64 \n",
            "\n",
            "Original Scores Distribution:  [8875, 7318, 142966, 10430, 1968, 1916, 460, 423, 28, 5]\n",
            "Scores after Classification:  [8875, 7318, 142966, 10430, 1968, 1916, 460, 423, 28, 5]\n",
            "\n",
            "Distribution of groups (0-9):\n"
          ]
        },
        {
          "output_type": "display_data",
          "data": {
            "text/plain": [
              "<Figure size 432x288 with 1 Axes>"
            ],
            "image/png": "[encoded data removed]"
          },
          "metadata": {
            "needs_background": "light"
          }
        },
        {
          "output_type": "stream",
          "name": "stdout",
          "text": [
            "\n",
            "training_set before the append:  152038\n",
            "training_set after append:  152057\n",
            "count times appended:  19\n",
            "Time taken:  28.446873942999446\n",
            "\n",
            "\n",
            " ------ New Run:  8  ------ \n",
            "\n",
            "Random Number:  25610\n",
            "Random number:\n",
            " energy               0.344000\n",
            "instrumentalness     0.000029\n",
            "popularity           0.060000\n",
            "tempo                0.319814\n",
            "Year                31.000000\n",
            "Name: 25610, dtype: float64 \n",
            "\n",
            "Original Scores Distribution:  [9257, 9550, 61086, 79909, 12130, 2294, 109, 50, 3, 1]\n",
            "Scores after Classification:  [9257, 9550, 61086, 79909, 12130, 2294, 109, 50, 3, 1]\n",
            "\n",
            "Distribution of groups (0-9):\n"
          ]
        },
        {
          "output_type": "display_data",
          "data": {
            "text/plain": [
              "<Figure size 432x288 with 1 Axes>"
            ],
            "image/png": "[encoded data removed]"
          },
          "metadata": {
            "needs_background": "light"
          }
        },
        {
          "output_type": "stream",
          "name": "stdout",
          "text": [
            "\n",
            "training_set before the append:  152057\n",
            "training_set after append:  152069\n",
            "count times appended:  12\n",
            "Time taken:  28.18219384999975\n",
            "\n",
            "\n",
            " ------ New Run:  9  ------ \n",
            "\n",
            "Random Number:  126652\n",
            "Random number:\n",
            " energy                0.989000\n",
            "instrumentalness      0.959000\n",
            "popularity            0.190000\n",
            "tempo                 0.567166\n",
            "Year                100.000000\n",
            "Name: 126652, dtype: float64 \n",
            "\n",
            "Original Scores Distribution:  [8923, 7428, 138785, 13324, 2766, 2799, 166, 153, 30, 15]\n",
            "Scores after Classification:  [8923, 7428, 138785, 13324, 2766, 2799, 166, 153, 30, 15]\n",
            "\n",
            "Distribution of groups (0-9):\n"
          ]
        },
        {
          "output_type": "display_data",
          "data": {
            "text/plain": [
              "<Figure size 432x288 with 1 Axes>"
            ],
            "image/png": "[encoded data removed]"
          },
          "metadata": {
            "needs_background": "light"
          }
        },
        {
          "output_type": "stream",
          "name": "stdout",
          "text": [
            "\n",
            "training_set before the append:  152069\n",
            "training_set after append:  152098\n",
            "count times appended:  29\n",
            "Time taken:  28.23237751600027\n",
            "\n",
            "\n",
            " ------ New Run:  10  ------ \n",
            "\n",
            "Random Number:  163383\n",
            "Random number:\n",
            " energy               0.798000\n",
            "instrumentalness     0.000396\n",
            "popularity           0.190000\n",
            "tempo                0.451732\n",
            "Year                46.000000\n",
            "Name: 163383, dtype: float64 \n",
            "\n",
            "Original Scores Distribution:  [9176, 10805, 112823, 34502, 5163, 1682, 157, 73, 6, 2]\n",
            "Scores after Classification:  [9176, 10805, 112823, 34502, 5163, 1682, 157, 73, 6, 2]\n",
            "\n",
            "Distribution of groups (0-9):\n"
          ]
        },
        {
          "output_type": "display_data",
          "data": {
            "text/plain": [
              "<Figure size 432x288 with 1 Axes>"
            ],
            "image/png": "[encoded data removed]"
          },
          "metadata": {
            "needs_background": "light"
          }
        },
        {
          "output_type": "stream",
          "name": "stdout",
          "text": [
            "\n",
            "training_set before the append:  152098\n",
            "training_set after append:  152114\n",
            "count times appended:  16\n",
            "Time taken:  28.403125058001024\n",
            "\n",
            "\n",
            " ------ New Run:  11  ------ \n",
            "\n",
            "Random Number:  147630\n",
            "Random number:\n",
            " energy               0.383000\n",
            "instrumentalness     0.000278\n",
            "popularity           0.130000\n",
            "tempo                0.369866\n",
            "Year                44.000000\n",
            "Name: 147630, dtype: float64 \n",
            "\n",
            "Original Scores Distribution:  [9680, 9824, 46858, 73275, 28061, 6130, 401, 146, 10, 4]\n",
            "Scores after Classification:  [9680, 9824, 46858, 73275, 28061, 6130, 401, 146, 10, 4]\n",
            "\n",
            "Distribution of groups (0-9):\n"
          ]
        },
        {
          "output_type": "display_data",
          "data": {
            "text/plain": [
              "<Figure size 432x288 with 1 Axes>"
            ],
            "image/png": "[encoded data removed]"
          },
          "metadata": {
            "needs_background": "light"
          }
        },
        {
          "output_type": "stream",
          "name": "stdout",
          "text": [
            "\n",
            "training_set before the append:  152114\n",
            "training_set after append:  152132\n",
            "count times appended:  18\n",
            "Time taken:  28.477705844999946\n",
            "\n",
            "\n",
            " ------ New Run:  12  ------ \n",
            "\n",
            "Random Number:  105864\n",
            "Random number:\n",
            " energy               0.653000\n",
            "instrumentalness     0.685000\n",
            "popularity           0.380000\n",
            "tempo                0.313161\n",
            "Year                77.000000\n",
            "Name: 105864, dtype: float64 \n",
            "\n",
            "Original Scores Distribution:  [9424, 8359, 134215, 20155, 1819, 396, 20, 0, 0, 1]\n",
            "Scores after Classification:  [9424, 8359, 134215, 20155, 1819, 396, 20, 0, 0, 1]\n",
            "\n",
            "Distribution of groups (0-9):\n"
          ]
        },
        {
          "output_type": "display_data",
          "data": {
            "text/plain": [
              "<Figure size 432x288 with 1 Axes>"
            ],
            "image/png": "[encoded data removed]"
          },
          "metadata": {
            "needs_background": "light"
          }
        },
        {
          "output_type": "stream",
          "name": "stdout",
          "text": [
            "\n",
            "training_set before the append:  152132\n",
            "training_set after append:  152140\n",
            "count times appended:  8\n",
            "Time taken:  28.219675192000068\n",
            "\n",
            "\n",
            " ------ New Run:  13  ------ \n",
            "\n",
            "Random Number:  157987\n",
            "Random number:\n",
            " energy               0.867000\n",
            "instrumentalness     0.006840\n",
            "popularity           0.700000\n",
            "tempo                0.394395\n",
            "Year                97.000000\n",
            "Name: 157987, dtype: float64 \n",
            "\n",
            "Original Scores Distribution:  [10636, 11425, 60569, 59638, 19776, 10360, 1220, 703, 48, 14]\n",
            "Scores after Classification:  [10636, 11425, 60569, 59638, 19776, 10360, 1220, 703, 48, 14]\n",
            "\n",
            "Distribution of groups (0-9):\n"
          ]
        },
        {
          "output_type": "display_data",
          "data": {
            "text/plain": [
              "<Figure size 432x288 with 1 Axes>"
            ],
            "image/png": "[encoded data removed]"
          },
          "metadata": {
            "needs_background": "light"
          }
        },
        {
          "output_type": "stream",
          "name": "stdout",
          "text": [
            "\n",
            "training_set before the append:  152140\n",
            "training_set after append:  152168\n",
            "count times appended:  28\n",
            "Time taken:  28.514117941000222\n",
            "\n",
            "\n",
            " ------ New Run:  14  ------ \n",
            "\n",
            "Random Number:  29806\n",
            "Random number:\n",
            " energy               0.275000\n",
            "instrumentalness     0.046400\n",
            "popularity           0.460000\n",
            "tempo                0.374154\n",
            "Year                52.000000\n",
            "Name: 29806, dtype: float64 \n",
            "\n",
            "Original Scores Distribution:  [10260, 10674, 69891, 57920, 20344, 5067, 205, 27, 0, 1]\n",
            "Scores after Classification:  [10260, 10674, 69891, 57920, 20344, 5067, 205, 27, 0, 1]\n",
            "\n",
            "Distribution of groups (0-9):\n"
          ]
        },
        {
          "output_type": "display_data",
          "data": {
            "text/plain": [
              "<Figure size 432x288 with 1 Axes>"
            ],
            "image/png": "[encoded data removed]"
          },
          "metadata": {
            "needs_background": "light"
          }
        },
        {
          "output_type": "stream",
          "name": "stdout",
          "text": [
            "\n",
            "training_set before the append:  152168\n",
            "training_set after append:  152177\n",
            "count times appended:  9\n",
            "Time taken:  28.245401468999262\n",
            "\n",
            "\n",
            " ------ New Run:  15  ------ \n",
            "\n",
            "Random Number:  61227\n",
            "Random number:\n",
            " energy               0.477000\n",
            "instrumentalness     0.671000\n",
            "popularity           0.000000\n",
            "tempo                0.541816\n",
            "Year                23.000000\n",
            "Name: 61227, dtype: float64 \n",
            "\n"
          ]
        }
      ]
    },
    {
      "cell_type": "code",
      "source": [
        "# Show distribution and properties of training_set\n",
        "training_set['Score'].hist()\n",
        "plt.show()\n",
        "print(training_set['Score'].describe())\n",
        "print(training_set.info())"
      ],
      "metadata": {
        "colab": {
          "base_uri": "https://localhost:8080/",
          "height": 751
        },
        "id": "RWMvyGSvmsCc",
        "outputId": "61318702-6173-4de7-ccb4-d4d8480862bb"
      },
      "execution_count": 4,
      "outputs": [
        {
          "output_type": "display_data",
          "data": {
            "text/plain": [
              "<Figure size 432x288 with 1 Axes>"
            ],
            "image/png": "[encoded data removed]"
          },
          "metadata": {
            "needs_background": "light"
          }
        },
        {
          "output_type": "stream",
          "name": "stdout",
          "text": [
            "count    149970.000000\n",
            "mean          4.215170\n",
            "std           2.741735\n",
            "min           0.000000\n",
            "25%           2.000000\n",
            "50%           4.000000\n",
            "75%           6.000000\n",
            "max           9.000000\n",
            "Name: Score, dtype: float64\n",
            "<class 'pandas.core.frame.DataFrame'>\n",
            "Int64Index: 149970 entries, 0 to 41924\n",
            "Data columns (total 11 columns):\n",
            " #   Column                Non-Null Count   Dtype  \n",
            "---  ------                --------------   -----  \n",
            " 0   energy                149970 non-null  float64\n",
            " 1   instrumentalness      149970 non-null  float64\n",
            " 2   popularity            149970 non-null  float64\n",
            " 3   tempo                 149970 non-null  float64\n",
            " 4   Year                  149970 non-null  float64\n",
            " 5   Usr_Energy            149970 non-null  float64\n",
            " 6   Usr_Instrumentalness  149970 non-null  float64\n",
            " 7   Usr_Popularity        149970 non-null  float64\n",
            " 8   Usr_Tempo             149970 non-null  float64\n",
            " 9   Usr_Year              149970 non-null  float64\n",
            " 10  Score                 149970 non-null  float64\n",
            "dtypes: float64(11)\n",
            "memory usage: 13.7 MB\n",
            "None\n"
          ]
        }
      ]
    },
    {
      "cell_type": "code",
      "source": [
        "training_set = pd.read_csv(\"balanced_modelv2\")\n",
        "\n",
        "print(training_set.info())\n",
        "\n"
      ],
      "metadata": {
        "colab": {
          "base_uri": "https://localhost:8080/"
        },
        "id": "PFNPrful3YAb",
        "outputId": "892f9dcf-38ac-4928-db24-b0dea1eaff28"
      },
      "execution_count": null,
      "outputs": [
        {
          "output_type": "stream",
          "name": "stdout",
          "text": [
            "<class 'pandas.core.frame.DataFrame'>\n",
            "RangeIndex: 130469 entries, 0 to 130468\n",
            "Data columns (total 11 columns):\n",
            " #   Column                Non-Null Count   Dtype  \n",
            "---  ------                --------------   -----  \n",
            " 0   energy                130469 non-null  float64\n",
            " 1   instrumentalness      130469 non-null  float64\n",
            " 2   popularity            130469 non-null  float64\n",
            " 3   tempo                 130469 non-null  float64\n",
            " 4   Year                  130469 non-null  float64\n",
            " 5   Usr_Energy            130469 non-null  float64\n",
            " 6   Usr_Instrumentalness  130469 non-null  float64\n",
            " 7   Usr_Popularity        130469 non-null  float64\n",
            " 8   Usr_Tempo             130469 non-null  float64\n",
            " 9   Usr_Year              130469 non-null  float64\n",
            " 10  Score                 130469 non-null  float64\n",
            "dtypes: float64(11)\n",
            "memory usage: 10.9 MB\n",
            "None\n"
          ]
        }
      ]
    },
    {
      "cell_type": "code",
      "source": [
        "# Create the neural network and check for accuracy\n",
        "import tensorflow as tf\n",
        "from sklearn.model_selection import train_test_split\n",
        "scor_srted = tf.keras.utils.to_categorical(training_set['Score'],10)\n",
        "X_train, X_test, y_train, y_test = train_test_split(training_set.drop(['Score'],axis=1), scor_srted, test_size=0.33, random_state=42)\n",
        "from tensorflow.python.keras.layers import Input, Dense\n",
        "from keras.models import Sequential\n",
        "import keras\n",
        "\n",
        "def build_model(n_neurons):\n",
        "   model = Sequential() \n",
        "   model.add(Dense(n_neurons, activation = 'relu')) \n",
        "   model.add(Dense(100, activation = 'relu'))\n",
        "   model.add(Dense(256, activation = 'relu'))\n",
        "   model.add(Dense(100, activation = 'relu'))\n",
        "   model.add(Dense(10, activation = 'softmax'))  # the output must be softmax for multi-class classifcation\n",
        "\n",
        "   return model\n",
        "\n",
        "model = build_model(25)\n",
        "opt = keras.optimizers.Adam(learning_rate=0.01)\n",
        "epch = 9\n",
        "model.compile(loss = \"categorical_crossentropy\", optimizer = \"adam\", metrics = ['accuracy'])\n",
        "train_history = model.fit(X_train,y_train, validation_data=(X_test,y_test), epochs = epch)\n"
      ],
      "metadata": {
        "colab": {
          "base_uri": "https://localhost:8080/"
        },
        "id": "WMGydvSxgewJ",
        "outputId": "c9357813-1874-4eb0-e664-3d1a2322017a"
      },
      "execution_count": 6,
      "outputs": [
        {
          "output_type": "stream",
          "name": "stdout",
          "text": [
            "Epoch 1/9\n",
            "3180/3180 [==============================] - 13s 4ms/step - loss: 1.2420 - accuracy: 0.4851 - val_loss: 1.1153 - val_accuracy: 0.5397\n",
            "Epoch 2/9\n",
            "3180/3180 [==============================] - 12s 4ms/step - loss: 1.0903 - accuracy: 0.5459 - val_loss: 1.0481 - val_accuracy: 0.5617\n",
            "Epoch 3/9\n",
            "3180/3180 [==============================] - 12s 4ms/step - loss: 1.0048 - accuracy: 0.5757 - val_loss: 1.0439 - val_accuracy: 0.5565\n",
            "Epoch 4/9\n",
            "3180/3180 [==============================] - 12s 4ms/step - loss: 0.9368 - accuracy: 0.6051 - val_loss: 0.8867 - val_accuracy: 0.6250\n",
            "Epoch 5/9\n",
            "3180/3180 [==============================] - 12s 4ms/step - loss: 0.8755 - accuracy: 0.6287 - val_loss: 0.8498 - val_accuracy: 0.6399\n",
            "Epoch 6/9\n",
            "3180/3180 [==============================] - 11s 4ms/step - loss: 0.8389 - accuracy: 0.6416 - val_loss: 0.8207 - val_accuracy: 0.6463\n",
            "Epoch 7/9\n",
            "3180/3180 [==============================] - 12s 4ms/step - loss: 0.8169 - accuracy: 0.6508 - val_loss: 0.8008 - val_accuracy: 0.6578\n",
            "Epoch 8/9\n",
            "3180/3180 [==============================] - 12s 4ms/step - loss: 0.7901 - accuracy: 0.6610 - val_loss: 0.7946 - val_accuracy: 0.6635\n",
            "Epoch 9/9\n",
            "3180/3180 [==============================] - 12s 4ms/step - loss: 0.7670 - accuracy: 0.6691 - val_loss: 0.7104 - val_accuracy: 0.6932\n"
          ]
        }
      ]
    },
    {
      "cell_type": "code",
      "source": [
        "train_history = model.fit(X_train,y_train, validation_data=(X_test,y_test), epochs = 15,batch_size = 256)\n"
      ],
      "metadata": {
        "colab": {
          "base_uri": "https://localhost:8080/"
        },
        "id": "tJWGviksD_rE",
        "outputId": "ec1fe8ea-4db8-49a8-8108-9d49842ec8e9"
      },
      "execution_count": 7,
      "outputs": [
        {
          "output_type": "stream",
          "name": "stdout",
          "text": [
            "Epoch 1/15\n",
            "398/398 [==============================] - 3s 8ms/step - loss: 0.6772 - accuracy: 0.7077 - val_loss: 0.6737 - val_accuracy: 0.7083\n",
            "Epoch 2/15\n",
            "398/398 [==============================] - 3s 8ms/step - loss: 0.6690 - accuracy: 0.7103 - val_loss: 0.7186 - val_accuracy: 0.6900\n",
            "Epoch 3/15\n",
            "398/398 [==============================] - 3s 7ms/step - loss: 0.6638 - accuracy: 0.7096 - val_loss: 0.6728 - val_accuracy: 0.7095\n",
            "Epoch 4/15\n",
            "398/398 [==============================] - 3s 7ms/step - loss: 0.6602 - accuracy: 0.7118 - val_loss: 0.6923 - val_accuracy: 0.6939\n",
            "Epoch 5/15\n",
            "398/398 [==============================] - 3s 8ms/step - loss: 0.6530 - accuracy: 0.7150 - val_loss: 0.6586 - val_accuracy: 0.7142\n",
            "Epoch 6/15\n",
            "398/398 [==============================] - 3s 8ms/step - loss: 0.6449 - accuracy: 0.7181 - val_loss: 0.6459 - val_accuracy: 0.7190\n",
            "Epoch 7/15\n",
            "398/398 [==============================] - 3s 8ms/step - loss: 0.6482 - accuracy: 0.7175 - val_loss: 0.6718 - val_accuracy: 0.7046\n",
            "Epoch 8/15\n",
            "398/398 [==============================] - 3s 8ms/step - loss: 0.6399 - accuracy: 0.7206 - val_loss: 0.7156 - val_accuracy: 0.6807\n",
            "Epoch 9/15\n",
            "398/398 [==============================] - 3s 7ms/step - loss: 0.6372 - accuracy: 0.7220 - val_loss: 0.6735 - val_accuracy: 0.7072\n",
            "Epoch 10/15\n",
            "398/398 [==============================] - 3s 8ms/step - loss: 0.6337 - accuracy: 0.7219 - val_loss: 0.6266 - val_accuracy: 0.7242\n",
            "Epoch 11/15\n",
            "398/398 [==============================] - 3s 8ms/step - loss: 0.6300 - accuracy: 0.7254 - val_loss: 0.6413 - val_accuracy: 0.7184\n",
            "Epoch 12/15\n",
            "398/398 [==============================] - 3s 7ms/step - loss: 0.6294 - accuracy: 0.7240 - val_loss: 0.6363 - val_accuracy: 0.7193\n",
            "Epoch 13/15\n",
            "398/398 [==============================] - 3s 7ms/step - loss: 0.6227 - accuracy: 0.7261 - val_loss: 0.6235 - val_accuracy: 0.7277\n",
            "Epoch 14/15\n",
            "398/398 [==============================] - 3s 8ms/step - loss: 0.6151 - accuracy: 0.7301 - val_loss: 0.6240 - val_accuracy: 0.7238\n",
            "Epoch 15/15\n",
            "398/398 [==============================] - 3s 8ms/step - loss: 0.6149 - accuracy: 0.7293 - val_loss: 0.6324 - val_accuracy: 0.7182\n"
          ]
        }
      ]
    },
    {
      "cell_type": "code",
      "source": [
        "\n",
        "nn_test_score = model.evaluate(X_test, y_test, verbose=0)\n",
        "\n",
        "print('Test score:', nn_test_score[0])\n",
        "print('Test accuracy:', nn_test_score[1])\n",
        "\n",
        "nn_train_score = model.evaluate(X_train, y_train, verbose=0)\n",
        "print('Train score:', nn_train_score[0])\n",
        "print('Train accuracy:', nn_train_score[1])\n",
        "\n",
        "model.summary()"
      ],
      "metadata": {
        "id": "kg237rSngf1m",
        "colab": {
          "base_uri": "https://localhost:8080/"
        },
        "outputId": "5a88ff84-ea53-405b-a77f-f1f4c0e5ce4a"
      },
      "execution_count": null,
      "outputs": [
        {
          "output_type": "stream",
          "name": "stdout",
          "text": [
            "Test score: 0.09281153976917267\n",
            "Test accuracy: 0.9620136618614197\n",
            "Train score: 0.07994552701711655\n",
            "Train accuracy: 0.966503381729126\n",
            "Model: \"sequential_1\"\n",
            "_________________________________________________________________\n",
            " Layer (type)                Output Shape              Param #   \n",
            "=================================================================\n",
            " module_wrapper_5 (ModuleWra  (None, 25)               275       \n",
            " pper)                                                           \n",
            "                                                                 \n",
            " module_wrapper_6 (ModuleWra  (None, 100)              2600      \n",
            " pper)                                                           \n",
            "                                                                 \n",
            " module_wrapper_7 (ModuleWra  (None, 256)              25856     \n",
            " pper)                                                           \n",
            "                                                                 \n",
            " module_wrapper_8 (ModuleWra  (None, 100)              25700     \n",
            " pper)                                                           \n",
            "                                                                 \n",
            " module_wrapper_9 (ModuleWra  (None, 10)               1010      \n",
            " pper)                                                           \n",
            "                                                                 \n",
            "=================================================================\n",
            "Total params: 55,441\n",
            "Trainable params: 55,441\n",
            "Non-trainable params: 0\n",
            "_________________________________________________________________\n"
          ]
        }
      ]
    },
    {
      "cell_type": "code",
      "source": [
        "model.save(\"ml_modelv2\")"
      ],
      "metadata": {
        "id": "OVhl67LBgfvF",
        "colab": {
          "base_uri": "https://localhost:8080/"
        },
        "outputId": "a6a1bc71-2f32-458d-898e-c3b4bbaefde3"
      },
      "execution_count": null,
      "outputs": [
        {
          "output_type": "stream",
          "name": "stderr",
          "text": [
            "WARNING:absl:Found untraced functions such as dense_5_layer_call_fn, dense_5_layer_call_and_return_conditional_losses, dense_6_layer_call_fn, dense_6_layer_call_and_return_conditional_losses, dense_7_layer_call_fn while saving (showing 5 of 10). These functions will not be directly callable after loading.\n"
          ]
        }
      ]
    }
  ]
}